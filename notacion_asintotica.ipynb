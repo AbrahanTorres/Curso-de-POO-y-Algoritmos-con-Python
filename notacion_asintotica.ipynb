{
 "cells": [
  {
   "cell_type": "markdown",
   "metadata": {},
   "source": [
    "Para el siguiente ejemplo tenemos dos loops, el primero y el segundo son loops que tardarán n pasos.\n",
    "\n",
    "Esta función tiene un crecimiento lineal, esta función crece con respecto a n de manera lineal. La función crece en O de n, o BigO of n."
   ]
  },
  {
   "cell_type": "code",
   "execution_count": null,
   "metadata": {},
   "outputs": [],
   "source": [
    "# Ley de la suma\n",
    "\n",
    "def f(n):\n",
    "    for i in range(n):\n",
    "        print(i)\n",
    "\n",
    "    for i in range(n):\n",
    "        print(i)\n",
    "\n",
    "# O(n) + O(n) = O (n + n) = O(2n) = O(n)\n",
    "#Big o de n + big o de n."
   ]
  },
  {
   "cell_type": "markdown",
   "metadata": {},
   "source": [
    "Para el siguiente ejemplo tenemos una función otra vez la ley de la suma, para nuestro primer loop sigue creciendo de manera lineal, que podemos representar como O(n), el segundo loop está creciendo en n por n, es decir n al cuadrado. Para bigO nos interesa el termino más grande, por lo tanto la función crece en BigO de n cuadrado O(n**2)."
   ]
  },
  {
   "cell_type": "code",
   "execution_count": null,
   "metadata": {},
   "outputs": [],
   "source": [
    "# Ley de la suma\n",
    "\n",
    "def f(n):\n",
    "    for i in range(n):\n",
    "        print(i)\n",
    "\n",
    "    for i in range(n * n):\n",
    "        print(i)\n",
    "\n",
    "#O(n) + O(n * n) = O(n + n**2)= O(n**2)"
   ]
  },
  {
   "cell_type": "markdown",
   "metadata": {},
   "source": [
    "Para este ejemplo, en la ley de la multiplicación, tenemos una función, con dos ciclos for dentro de otro, el segundo loop está dentro de otro loop, una iteración, adentro de otra iteración, lo que significa que va a multiplicar los terminos. Por la ley de la multiplicación podemos decir que es O de n por n O(n * n ), y a su vez bigO n al cuadrado O(n**2). Es decir un crecimiento cuadrático."
   ]
  },
  {
   "cell_type": "code",
   "execution_count": null,
   "metadata": {},
   "outputs": [],
   "source": [
    "#Ley de la multiplicación.\n",
    "\n",
    "def f(n):\n",
    "    for i in range(n):\n",
    "        for j in range(n):\n",
    "            print(i, j)\n",
    "\n",
    "# O(n) * O(n) = O(n * n) = O(n**2)"
   ]
  },
  {
   "cell_type": "markdown",
   "metadata": {},
   "source": [
    "En este ejemplo de función con recursividad, por cada llamada de fibonacci, nosotros dentro de la función llamamos dos llamadas de fibonacci, lo que significa 2 a la n, 2**n. Por lo tanto esta función tiene un crecimiento de 2 a la n o exponencial. Conforme va creciendo fibonacci, nosotros vamos tardando exponencialmente más tiempo."
   ]
  },
  {
   "cell_type": "code",
   "execution_count": null,
   "metadata": {},
   "outputs": [],
   "source": [
    "#Recursividad múltiple.\n",
    "\n",
    "def fibonacci(n):\n",
    "    if n == 0 or n == 1:\n",
    "        return 1\n",
    "    return fibonacci(n-1) + fibonacci(n-2)\n",
    "\n",
    "#(2**n)"
   ]
  }
 ],
 "metadata": {
  "language_info": {
   "name": "python"
  },
  "orig_nbformat": 4
 },
 "nbformat": 4,
 "nbformat_minor": 2
}
